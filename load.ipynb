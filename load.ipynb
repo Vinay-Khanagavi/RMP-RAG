{
 "cells": [
  {
   "cell_type": "code",
   "execution_count": 7,
   "metadata": {},
   "outputs": [
    {
     "name": "stderr",
     "output_type": "stream",
     "text": [
      "c:\\Users\\vinuu\\miniconda3\\envs\\rag\\lib\\site-packages\\tqdm\\auto.py:21: TqdmWarning: IProgress not found. Please update jupyter and ipywidgets. See https://ipywidgets.readthedocs.io/en/stable/user_install.html\n",
      "  from .autonotebook import tqdm as notebook_tqdm\n"
     ]
    }
   ],
   "source": [
    "from dotenv import load_dotenv\n",
    "load_dotenv()\n",
    "import os\n",
    "import google.generativeai as genai\n",
    "from pinecone import Pinecone, ServerlessSpec\n",
    "\n"
   ]
  },
  {
   "cell_type": "code",
   "execution_count": 8,
   "metadata": {},
   "outputs": [],
   "source": [
    "pc = Pinecone(api_key=os.getenv(\"PINCONE_API_KEY\"))\n",
    "\n",
    "pc.create_index(\n",
    "    name=\"rag\",\n",
    "    dimension=1536, # Replace with your model dimensions\n",
    "    metric=\"cosine\", # Replace with your model metric\n",
    "    spec=ServerlessSpec(\n",
    "        cloud=\"aws\",\n",
    "        region=\"us-east-1\"\n",
    "    ) \n",
    ")"
   ]
  },
  {
   "cell_type": "code",
   "execution_count": 9,
   "metadata": {},
   "outputs": [
    {
     "data": {
      "text/plain": [
       "[{'professor': 'Dr. Emily Thompson',\n",
       "  'subject': 'Physics',\n",
       "  'star': 4,\n",
       "  'review': 'Engaging lectures and clear explanations. Challenging but fair exams.'},\n",
       " {'professor': 'Prof. Michael Chen',\n",
       "  'subject': 'Computer Science',\n",
       "  'star': 5,\n",
       "  'review': 'Brilliant instructor. Makes complex topics easy to understand. Always available for extra help.'},\n",
       " {'professor': 'Dr. Sarah Johnson',\n",
       "  'subject': 'Biology',\n",
       "  'star': 3,\n",
       "  'review': 'Knowledgeable but sometimes rushes through material. Lab sessions could be better organized.'},\n",
       " {'professor': 'Prof. David Garcia',\n",
       "  'subject': 'Mathematics',\n",
       "  'star': 4,\n",
       "  'review': 'Tough but fair. Homework is demanding but prepares you well for exams.'},\n",
       " {'professor': 'Dr. Rachel Lee',\n",
       "  'subject': 'Psychology',\n",
       "  'star': 5,\n",
       "  'review': 'Passionate about the subject. Incorporates real-world examples. Highly recommended!'},\n",
       " {'professor': 'Prof. James Wilson',\n",
       "  'subject': 'History',\n",
       "  'star': 2,\n",
       "  'review': 'Monotonous lectures. Relies too heavily on textbook. Grading seems arbitrary at times.'},\n",
       " {'professor': 'Dr. Laura Martinez',\n",
       "  'subject': 'Chemistry',\n",
       "  'star': 4,\n",
       "  'review': 'Clear explanations of complex concepts. Lab work is well-structured and informative.'},\n",
       " {'professor': 'Prof. Robert Taylor',\n",
       "  'subject': 'English Literature',\n",
       "  'star': 3,\n",
       "  'review': 'Insightful analysis of texts, but can be intimidating in class discussions.'},\n",
       " {'professor': 'Dr. Amanda Brown',\n",
       "  'subject': 'Sociology',\n",
       "  'star': 5,\n",
       "  'review': 'Thought-provoking lectures. Encourages critical thinking. Very approachable.'},\n",
       " {'professor': 'Prof. Thomas Anderson',\n",
       "  'subject': 'Economics',\n",
       "  'star': 4,\n",
       "  'review': 'Makes economics interesting with real-world applications. Challenging problem sets.'},\n",
       " {'professor': 'Dr. Olivia Wright',\n",
       "  'subject': 'Art History',\n",
       "  'star': 3,\n",
       "  'review': 'Knowledgeable about the subject, but lectures can be dry. Good visual aids.'},\n",
       " {'professor': 'Prof. Daniel Kim',\n",
       "  'subject': 'Political Science',\n",
       "  'star': 5,\n",
       "  'review': 'Engaging discussions on current events. Fair grader. Excellent at explaining complex political systems.'},\n",
       " {'professor': 'Dr. Jennifer Lopez',\n",
       "  'subject': 'Neuroscience',\n",
       "  'star': 4,\n",
       "  'review': 'Cutting-edge research incorporated into lectures. Demanding but rewarding course.'},\n",
       " {'professor': 'Prof. Mark Williams',\n",
       "  'subject': 'Philosophy',\n",
       "  'star': 2,\n",
       "  'review': 'Often goes off on tangents. Grading criteria are unclear. Office hours are not very helpful.'},\n",
       " {'professor': 'Dr. Sophia Patel',\n",
       "  'subject': 'Environmental Science',\n",
       "  'star': 5,\n",
       "  'review': 'Passionate about sustainability. Field trips are informative. Inspiring lecturer.'},\n",
       " {'professor': 'Prof. Christopher Lee',\n",
       "  'subject': 'Business Administration',\n",
       "  'star': 3,\n",
       "  'review': 'Good practical knowledge, but could improve on teaching methods. Group projects are well-designed.'},\n",
       " {'professor': 'Dr. Elizabeth Chen',\n",
       "  'subject': 'Linguistics',\n",
       "  'star': 4,\n",
       "  'review': 'Fascinating insights into language structure. Assignments are challenging but interesting.'},\n",
       " {'professor': 'Prof. Andrew Johnson',\n",
       "  'subject': 'Music Theory',\n",
       "  'star': 5,\n",
       "  'review': 'Exceptional at breaking down complex musical concepts. Patient and encouraging.'},\n",
       " {'professor': 'Dr. Maria Rodriguez',\n",
       "  'subject': 'Anthropology',\n",
       "  'star': 3,\n",
       "  'review': 'Interesting course content, but lectures can be disorganized. Fieldwork component is valuable.'},\n",
       " {'professor': 'Prof. William Chang',\n",
       "  'subject': 'Statistics',\n",
       "  'star': 4,\n",
       "  'review': 'Makes stats accessible and relevant. Good balance of theory and practical applications.'}]"
      ]
     },
     "execution_count": 9,
     "metadata": {},
     "output_type": "execute_result"
    }
   ],
   "source": [
    "import json\n",
    "\n",
    "data=json.load(open(\"reviews.json\"))\n",
    "\n",
    "data['reviews']"
   ]
  },
  {
   "cell_type": "code",
   "execution_count": null,
   "metadata": {},
   "outputs": [],
   "source": [
    "processed_data=[]\n",
    "\n",
    "client=genai\n",
    "\n",
    "for review in data['reviews']:\n",
    "    response = client.embedding.create(\n",
    "        input=review['review'],\n",
    "        model\n",
    "    )"
   ]
  }
 ],
 "metadata": {
  "kernelspec": {
   "display_name": "rag",
   "language": "python",
   "name": "python3"
  },
  "language_info": {
   "codemirror_mode": {
    "name": "ipython",
    "version": 3
   },
   "file_extension": ".py",
   "mimetype": "text/x-python",
   "name": "python",
   "nbconvert_exporter": "python",
   "pygments_lexer": "ipython3",
   "version": "3.10.14"
  }
 },
 "nbformat": 4,
 "nbformat_minor": 2
}
